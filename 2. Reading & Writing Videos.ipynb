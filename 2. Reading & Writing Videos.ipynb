{
 "cells": [
  {
   "cell_type": "markdown",
   "metadata": {},
   "source": [
    "# Reading & Writing Videos"
   ]
  },
  {
   "cell_type": "code",
   "execution_count": 1,
   "metadata": {},
   "outputs": [],
   "source": [
    "import cv2 as cv"
   ]
  },
  {
   "cell_type": "markdown",
   "metadata": {},
   "source": [
    "### Reading a Video File"
   ]
  },
  {
   "cell_type": "code",
   "execution_count": 9,
   "metadata": {},
   "outputs": [
    {
     "name": "stdout",
     "output_type": "stream",
     "text": [
      "Frames per second: 29.97002997002997\n"
     ]
    }
   ],
   "source": [
    "capture = cv.VideoCapture('Videos/dog.mp4')\n",
    "fps = capture.get(cv.CAP_PROP_FPS)\n",
    "print(f'Frames per second: {fps}')"
   ]
  },
  {
   "cell_type": "code",
   "execution_count": 9,
   "metadata": {},
   "outputs": [],
   "source": [
    "delay_ms = int((1/fps) * 1000)   # Delay between frames\n",
    "while True:\n",
    "    isTrue, frame = capture.read() # isTrue is True when the frame is successfully fetched \n",
    "    if isTrue:\n",
    "        cv.imshow('Video', frame)\n",
    "        if (cv.waitKey(delay_ms) & 0xFF) == ord('d'):\n",
    "            break\n",
    "            # cv.waitKey(x) returns the 32-bit ASC-II value of the key pressed or -1 if no key is pressed within x milliseconds.\n",
    "            # The last 8-bits contain the ASC-II value and we grab it by a bit-wise AND operation with 0xFF which is 1111 1111.\n",
    "            # ord('d') gives the ASC-II value of the character 'd' and we check if the pressed key is 'd' or not.\n",
    "            # If the pressed key is 'd', the video is stopped before completion. Else, after delay_ms, next frame is displayed.\n",
    "    else:\n",
    "        break\n",
    "cv.destroyAllWindows()"
   ]
  },
  {
   "cell_type": "code",
   "execution_count": null,
   "metadata": {},
   "outputs": [],
   "source": [
    "capture.release()   # Releases the resources allocated to the video capture object"
   ]
  },
  {
   "cell_type": "markdown",
   "metadata": {},
   "source": [
    "### Real-Time Webcam Display"
   ]
  },
  {
   "cell_type": "code",
   "execution_count": 13,
   "metadata": {},
   "outputs": [
    {
     "name": "stdout",
     "output_type": "stream",
     "text": [
      "Frames per second: 30.0\n"
     ]
    }
   ],
   "source": [
    "capture2 = cv.VideoCapture(0)   # 0 for webcam \n",
    "fps2 = capture2.get(cv.CAP_PROP_FPS)\n",
    "print(f'Frames per second: {fps2}')"
   ]
  },
  {
   "cell_type": "code",
   "execution_count": 7,
   "metadata": {},
   "outputs": [],
   "source": [
    "delay_ms2 = int((1/fps2) * 1000)   # Delay between frames\n",
    "while True:\n",
    "    isTrue, frame = capture2.read()\n",
    "    if isTrue:\n",
    "        cv.imshow('Webcam', frame)\n",
    "        if (cv.waitKey(delay_ms2) & 0xFF) == ord('d'):\n",
    "            break\n",
    "    else:\n",
    "        break\n",
    "cv.destroyAllWindows()"
   ]
  },
  {
   "cell_type": "markdown",
   "metadata": {},
   "source": [
    "### Real-Time Webcam Display and Saving"
   ]
  },
  {
   "cell_type": "code",
   "execution_count": 14,
   "metadata": {},
   "outputs": [],
   "source": [
    "# Get video properties (frame width, height, and frames per second)\n",
    "frame_width = int(capture2.get(cv.CAP_PROP_FRAME_WIDTH))\n",
    "frame_height = int(capture2.get(cv.CAP_PROP_FRAME_HEIGHT))\n",
    "\n",
    "# Define the codec and create VideoWriter object\n",
    "fourcc = cv.VideoWriter_fourcc(*'mp4v')  # MP4 codec\n",
    "output_file = 'Videos/output_video.mp4'\n",
    "video_writer = cv.VideoWriter(output_file, fourcc, fps2, (frame_width, frame_height))\n",
    "\n",
    "while True:\n",
    "    isTrue, frame = capture2.read()\n",
    "    if not isTrue:\n",
    "        break\n",
    "    # Write the frame to the video file\n",
    "    video_writer.write(frame)\n",
    "\n",
    "    # Display the frame if needed\n",
    "    cv.imshow('Webcam', frame)\n",
    "    if cv.waitKey(delay_ms2) & 0xFF == ord('d'):\n",
    "        break\n",
    "\n",
    "# Release resources\n",
    "video_writer.release()\n",
    "cv.destroyAllWindows()\n"
   ]
  },
  {
   "cell_type": "code",
   "execution_count": 15,
   "metadata": {},
   "outputs": [],
   "source": [
    "capture2.release()"
   ]
  }
 ],
 "metadata": {
  "kernelspec": {
   "display_name": "base",
   "language": "python",
   "name": "python3"
  },
  "language_info": {
   "codemirror_mode": {
    "name": "ipython",
    "version": 3
   },
   "file_extension": ".py",
   "mimetype": "text/x-python",
   "name": "python",
   "nbconvert_exporter": "python",
   "pygments_lexer": "ipython3",
   "version": "3.11.7"
  }
 },
 "nbformat": 4,
 "nbformat_minor": 2
}
